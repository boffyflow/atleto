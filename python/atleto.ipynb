{
 "cells": [
  {
   "cell_type": "code",
   "execution_count": 1,
   "metadata": {},
   "outputs": [
    {
     "name": "stdout",
     "output_type": "stream",
     "text": [
      "100% [......................................................] 2259968 / 2259968            Date  Distance    Time   Pace  Heartrate\n",
      "2621  2019-01-10    5000.0  1833.0  06:07      137.6\n",
      "2623  2019-01-12    5000.0  1902.0  06:20      139.4\n",
      "2625  2019-01-14    5000.0  1850.0  06:10      138.0\n",
      "2627  2019-01-16    5000.0  1808.0  06:02      139.2\n",
      "2629  2019-01-18    5000.0  1819.0  06:04      139.4\n",
      "2630  2019-01-19    5000.0  1808.0  06:02      138.2\n",
      "2632  2019-01-21    5000.0  1728.0  05:46      137.0\n",
      "2634  2019-01-23    5000.0  1805.0  06:01      139.0\n",
      "2636  2019-01-25    5000.0  1700.0  05:40      137.6\n",
      "2637  2019-01-26    5000.0  1703.0  05:41      138.4\n",
      "2639  2019-01-28    5000.0  1731.0  05:46      138.4\n"
     ]
    },
    {
     "data": {
      "text/plain": [
       "<Figure size 640x480 with 1 Axes>"
      ]
     },
     "metadata": {},
     "output_type": "display_data"
    }
   ],
   "source": [
    "import matplotlib.pyplot as plt\n",
    "import matplotlib.dates as mdates\n",
    "import matplotlib.cbook as cbook\n",
    "import atleto as atl\n",
    "import wget      \n",
    "\n",
    "url = 'https://uebbing.com/atleto/website/atleto/data/atleto_data.atl'\n",
    "file = wget.download(url)\n",
    "#file = 'atleto_data.atl'\n",
    "\n",
    "a = atl.atleto( file)\n",
    "runs = a.runs()\n",
    "\n",
    "runs = runs[(runs['Distance'] >= 5000.0) &\n",
    "            (round(runs['Heartrate']) <= 140) &\n",
    "            (round(runs['Heartrate']) >= 135) &\n",
    "            (runs['Date'] >= '2019-01-01')]\n",
    "print(runs)\n",
    "\n",
    "fig, ax = plt.subplots()\n",
    "ax.plot( runs['Date'], runs['Pace'])\n",
    "\n",
    "ax.format_xdata = mdates.DateFormatter('%m-%d')\n",
    "ax.format_ydata = mdates.DateFormatter('%M-%S')\n",
    "ax.grid(True)\n",
    "\n",
    "fig.autofmt_xdate()\n",
    "\n",
    "plt.show()\n",
    "\n",
    "\n",
    "\n"
   ]
  },
  {
   "cell_type": "code",
   "execution_count": null,
   "metadata": {},
   "outputs": [],
   "source": []
  }
 ],
 "metadata": {
  "kernelspec": {
   "display_name": "Python 3",
   "language": "python",
   "name": "python3"
  },
  "language_info": {
   "codemirror_mode": {
    "name": "ipython",
    "version": 3
   },
   "file_extension": ".py",
   "mimetype": "text/x-python",
   "name": "python",
   "nbconvert_exporter": "python",
   "pygments_lexer": "ipython3",
   "version": "3.7.1"
  }
 },
 "nbformat": 4,
 "nbformat_minor": 2
}
