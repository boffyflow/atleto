{
 "cells": [
  {
   "cell_type": "code",
   "execution_count": 7,
   "metadata": {},
   "outputs": [
    {
     "data": {
      "text/plain": [
       "<Worksheet 'Runs' id:0>"
      ]
     },
     "execution_count": 7,
     "metadata": {},
     "output_type": "execute_result"
    }
   ],
   "source": [
    "import datetime\n",
    "import calendar\n",
    "import pandas as pd\n",
    "import gspread\n",
    "from df2gspread import df2gspread as d2g\n",
    "import matplotlib.pyplot as plt\n",
    "from oauth2client.service_account import ServiceAccountCredentials\n",
    "import atleto as atl\n",
    "\n",
    "## email: google-sheets@jupyter-228423.iam.gserviceaccount.com\n",
    "\n",
    "scope = ['https://spreadsheets.google.com/feeds']\n",
    "credentials = ServiceAccountCredentials.from_json_keyfile_name('./Jupyter-27d0cada520a.json', scope)\n",
    "gc = gspread.authorize(credentials)\n",
    "spreadsheet_key = '1p9s_2skvkIx1xJ0Ui7AbVW_aUMkb7ThLRehj1fyC-yg'\n",
    "\n",
    "file = '../website/atleto/data/atleto_data.atl'\n",
    "a = atl.atleto( file)\n",
    "\n",
    "worksheet = 'Runs'\n",
    "runs = a.runs()\n",
    "\n",
    "d2g.upload( runs, spreadsheet_key, worksheet, credentials=credentials, row_names=True)"
   ]
  },
  {
   "cell_type": "code",
   "execution_count": null,
   "metadata": {},
   "outputs": [],
   "source": []
  }
 ],
 "metadata": {
  "kernelspec": {
   "display_name": "Python 3",
   "language": "python",
   "name": "python3"
  },
  "language_info": {
   "codemirror_mode": {
    "name": "ipython",
    "version": 3
   },
   "file_extension": ".py",
   "mimetype": "text/x-python",
   "name": "python",
   "nbconvert_exporter": "python",
   "pygments_lexer": "ipython3",
   "version": "3.7.1"
  }
 },
 "nbformat": 4,
 "nbformat_minor": 2
}
